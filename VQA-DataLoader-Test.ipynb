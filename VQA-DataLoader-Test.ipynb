{
 "cells": [
  {
   "cell_type": "code",
   "execution_count": 1,
   "metadata": {},
   "outputs": [],
   "source": [
    "import json\n",
    "import pandas as pd\n",
    "from collections import defaultdict\n",
    "from nltk.tokenize import word_tokenize\n",
    "import pickle\n",
    "import h5py\n",
    "import re\n",
    "from utils import img_data_2_mini_batch, imgs2batch\n",
    "import numpy as np\n",
    "import matplotlib.pyplot as plt\n",
    "import torch.utils.data as Data\n",
    "from torchvision import transforms\n",
    "from matplotlib.pyplot import imshow\n",
    "import numpy as np\n",
    "from PIL import Image\n",
    "\n",
    "%matplotlib inline\n",
    "import torch.nn.functional as F\n",
    "import sys, os\n",
    "from IPython.display import display, HTML\n",
    "%reload_ext autoreload\n",
    "%autoreload 2"
   ]
  },
  {
   "cell_type": "code",
   "execution_count": 2,
   "metadata": {},
   "outputs": [],
   "source": [
    "from data_loader import VQADataSet\n",
    "pp = lambda parsed: print(json.dumps(parsed, indent=4, sort_keys=True))"
   ]
  },
  {
   "cell_type": "code",
   "execution_count": 3,
   "metadata": {},
   "outputs": [
    {
     "name": "stdout",
     "output_type": "stream",
     "text": [
      "building QA Maps\n"
     ]
    },
    {
     "data": {
      "application/vnd.jupyter.widget-view+json": {
       "model_id": "44e1da7842c64c20ab529fe2cdff5a7b",
       "version_major": 2,
       "version_minor": 0
      },
      "text/plain": [
       "HBox(children=(IntProgress(value=0, max=10), HTML(value='')))"
      ]
     },
     "metadata": {},
     "output_type": "display_data"
    },
    {
     "name": "stdout",
     "output_type": "stream",
     "text": [
      "\n",
      "build answer vocab\n"
     ]
    },
    {
     "data": {
      "application/vnd.jupyter.widget-view+json": {
       "model_id": "f02ab7ac970d4fac8180bd1cbd15f2f7",
       "version_major": 2,
       "version_minor": 0
      },
      "text/plain": [
       "HBox(children=(IntProgress(value=0, max=17), HTML(value='')))"
      ]
     },
     "metadata": {},
     "output_type": "display_data"
    },
    {
     "name": "stdout",
     "output_type": "stream",
     "text": [
      "\n",
      "build question vocab)\n"
     ]
    },
    {
     "data": {
      "application/vnd.jupyter.widget-view+json": {
       "model_id": "014b035fb0d14d3883eaff87fb9a7945",
       "version_major": 2,
       "version_minor": 0
      },
      "text/plain": [
       "HBox(children=(IntProgress(value=0, max=9), HTML(value='')))"
      ]
     },
     "metadata": {},
     "output_type": "display_data"
    },
    {
     "name": "stdout",
     "output_type": "stream",
     "text": [
      "\n",
      "encode answers\n"
     ]
    },
    {
     "data": {
      "application/vnd.jupyter.widget-view+json": {
       "model_id": "0990b45892514421b821c6f899212ed1",
       "version_major": 2,
       "version_minor": 0
      },
      "text/plain": [
       "HBox(children=(IntProgress(value=0, max=17), HTML(value='')))"
      ]
     },
     "metadata": {},
     "output_type": "display_data"
    },
    {
     "name": "stdout",
     "output_type": "stream",
     "text": [
      "\n",
      "encode questions\n"
     ]
    },
    {
     "data": {
      "application/vnd.jupyter.widget-view+json": {
       "model_id": "36fc28cfc04d43e09aaae183471a6b83",
       "version_major": 2,
       "version_minor": 0
      },
      "text/plain": [
       "HBox(children=(IntProgress(value=0, max=9), HTML(value='')))"
      ]
     },
     "metadata": {},
     "output_type": "display_data"
    },
    {
     "name": "stdout",
     "output_type": "stream",
     "text": [
      "\n",
      "VQADataSet init time: 7.025830984115601\n"
     ]
    }
   ],
   "source": [
    "dataset = VQADataSet(Q=10)"
   ]
  },
  {
   "cell_type": "code",
   "execution_count": 4,
   "metadata": {
    "scrolled": true
   },
   "outputs": [],
   "source": [
    "# # pp(dataset.answer_maps)\n",
    "# from random import shuffle\n",
    "# from collections import defaultdict\n",
    "# cntr = defaultdict(int)\n",
    "# dist = defaultdict(list)\n",
    "# for i, ann in enumerate(dataset.answer_maps):\n",
    "#     ans = ann['answer']\n",
    "#     cntr[ans]+=1\n",
    "#     dist[ans].append(i)\n",
    "\n",
    "# split = {'train': [], 'test': []}\n",
    "# z_cnt = 0\n",
    "# for ans, idxes in dist.items():\n",
    "#     shuffle(idxes)\n",
    "#     c = int(len(idxes)*0.20)\n",
    "#     split['train'] += idxes[c:]\n",
    "#     split['test'] += idxes[:c]\n",
    "# split['test'].sort()\n",
    "# print(split['test'][:20])\n",
    "\n",
    "# # print()\n",
    "# # print(z_cnt)\n",
    "# # print()\n",
    "# # train = split['train']\n",
    "# # test = split['test']\n",
    "# # print(len(split['train']))\n",
    "# # print(len(split['test']))\n",
    "# # print(len(split['test'])/(len(train) + len(test)))\n",
    "# # print(len(train) + len(test))\n",
    "\n",
    "# def split_to_freq(split, T=None):\n",
    "#     anns = [dataset.answer_maps[i] for i in split]\n",
    "#     _cntr = defaultdict(int)\n",
    "#     for ann in anns:\n",
    "#         _cntr[ann['answer']]+=1\n",
    "#     tmp = sorted(_cntr.items(), key=lambda kv: kv[1], reverse=True)[:T]\n",
    "#     return [x[1] for x in tmp]\n",
    "\n",
    "# def plot_freq(title, Y):\n",
    "#     X = range(len(Y))\n",
    "#     plt.bar(X, Y)\n",
    "#     plt.title(title)\n",
    "#     plt.show()\n",
    "\n",
    "# train_freq = split_to_freq(train, T=50)\n",
    "# test_freq = split_to_freq(test, T=50)\n",
    "# plot_freq(\"answer frequency\", train_freq)\n",
    "# plot_freq(\"answer frequency\", test_freq)\n",
    "# # T = 100\n",
    "# # print(len(cntr))\n",
    "# # kj = sorted(cntr.items(), key=lambda kv: kv[1], reverse=True)\n",
    "# # # print(kj[:T])\n",
    "# # import functools as ft\n",
    "# # Y = list(map(lambda aa: aa[1], kj[:T]))\n",
    "# # plot_freq(Y)\n",
    "# # print(ft.reduce(lambda a,b: a+b, kkk))"
   ]
  },
  {
   "cell_type": "code",
   "execution_count": 5,
   "metadata": {},
   "outputs": [],
   "source": [
    "# from IPython.display import display, HTML\n",
    "\n",
    "# CSS = \"\"\"\n",
    "# .output {\n",
    "#     flex-direction: row;\n",
    "# }\n",
    "# \"\"\"\n",
    "\n",
    "# HTML('<style>{}</style>'.format(CSS))\n",
    "\n",
    "# tmp_dict = defaultdict(int)\n",
    "# for ann in dataset.anns:\n",
    "#     tmp_dict[ann['question_type']]+=1\n",
    "\n",
    "# tmp_res = sorted(tmp_dict.items(), key=lambda kv: kv[1], reverse=True)\n",
    "# display(pd.DataFrame(tmp_res[:10]))\n",
    "# display(pd.DataFrame(tmp_res[10:20]))"
   ]
  },
  {
   "cell_type": "raw",
   "metadata": {},
   "source": []
  },
  {
   "cell_type": "code",
   "execution_count": null,
   "metadata": {},
   "outputs": [],
   "source": []
  },
  {
   "cell_type": "code",
   "execution_count": 6,
   "metadata": {},
   "outputs": [],
   "source": [
    "# dataset._build_vocab()\n",
    "# print(dataset.vocab['answer'])\n",
    "# print()\n",
    "# print(dataset.vocab['question'])"
   ]
  },
  {
   "cell_type": "code",
   "execution_count": 7,
   "metadata": {},
   "outputs": [],
   "source": [
    "# dataset._encode_qa_and_set_img_path()"
   ]
  },
  {
   "cell_type": "code",
   "execution_count": null,
   "metadata": {},
   "outputs": [],
   "source": [
    "#https://arxiv.org/pdf/1803.07724.pdf"
   ]
  },
  {
   "cell_type": "code",
   "execution_count": null,
   "metadata": {},
   "outputs": [],
   "source": []
  },
  {
   "cell_type": "code",
   "execution_count": null,
   "metadata": {},
   "outputs": [],
   "source": []
  },
  {
   "cell_type": "code",
   "execution_count": null,
   "metadata": {},
   "outputs": [],
   "source": []
  },
  {
   "cell_type": "code",
   "execution_count": null,
   "metadata": {},
   "outputs": [],
   "source": []
  },
  {
   "cell_type": "code",
   "execution_count": null,
   "metadata": {},
   "outputs": [],
   "source": []
  }
 ],
 "metadata": {
  "kernelspec": {
   "display_name": "python3_6",
   "language": "python",
   "name": "python3_6"
  },
  "language_info": {
   "codemirror_mode": {
    "name": "ipython",
    "version": 3
   },
   "file_extension": ".py",
   "mimetype": "text/x-python",
   "name": "python",
   "nbconvert_exporter": "python",
   "pygments_lexer": "ipython3",
   "version": "3.6.0"
  }
 },
 "nbformat": 4,
 "nbformat_minor": 2
}
