{
 "cells": [
  {
   "cell_type": "code",
   "execution_count": 1,
   "metadata": {},
   "outputs": [],
   "source": [
    "import sys, os, re, json, time\n",
    "\n",
    "import pandas as pd\n",
    "import pickle\n",
    "import h5py\n",
    "\n",
    "import numpy as np\n",
    "import matplotlib.pyplot as plt\n",
    "from matplotlib.pyplot import imshow\n",
    "import plotting\n",
    "from PIL import Image\n",
    "from tqdm import tqdm\n",
    "from utils import imread, img_data_2_mini_batch, imgs2batch\n",
    "\n",
    "from sklearn import metrics\n",
    "from sklearn.metrics import accuracy_score\n",
    "\n",
    "from naive import Enc, Dec, EncDec\n",
    "from data_loader import VQADataSet\n",
    "\n",
    "import torch\n",
    "import torch.nn as nn\n",
    "import torch.nn.functional as F\n",
    "import torch.utils.data as Data\n",
    "from torchvision import transforms\n",
    "\n",
    "%matplotlib inline\n",
    "%reload_ext autoreload\n",
    "%autoreload 2"
   ]
  },
  {
   "cell_type": "code",
   "execution_count": 2,
   "metadata": {},
   "outputs": [
    {
     "name": "stdout",
     "output_type": "stream",
     "text": [
      "./data/data_2000.pkl\n",
      "reading from ./data/data_2000.pkl\n"
     ]
    }
   ],
   "source": [
    "N = 2000\n",
    "dataset_filename = \"./data/data_{}.pkl\".format(N)\n",
    "dataset = None\n",
    "print(dataset_filename)\n",
    "if (os.path.exists(dataset_filename)):\n",
    "    with open(dataset_filename, 'rb') as handle:\n",
    "        print(\"reading from \" + dataset_filename)\n",
    "        dataset = pickle.load(handle)\n",
    "else:\n",
    "    dataset = VQADataSet(Q=N)\n",
    "    with open(dataset_filename, 'wb') as handle:\n",
    "        print(\"writing to \" + dataset_filename)\n",
    "        pickle.dump(dataset, handle)\n",
    "\n",
    "assert(dataset is not None)\n",
    "def debug(v,q,a):\n",
    "    print('\\nV: {}\\nQ: {}\\nA: {}'.format(v.shape, q.shape, a.shape))\n"
   ]
  },
  {
   "cell_type": "code",
   "execution_count": 3,
   "metadata": {},
   "outputs": [
    {
     "name": "stdout",
     "output_type": "stream",
     "text": [
      "1469 509\n"
     ]
    }
   ],
   "source": [
    "embed_size        = 128\n",
    "hidden_size       = 128\n",
    "batch_size        = 40\n",
    "ques_vocab_size   = len(dataset.vocab['question'])\n",
    "ans_vocab_size    = len(dataset.vocab['answer'])\n",
    "rnn_layers        = 1\n",
    "n_epochs          = 30\n",
    "learning_rate     = 0.001\n",
    "momentum          = 0.98\n",
    "\n",
    "print(ques_vocab_size, ans_vocab_size)"
   ]
  },
  {
   "cell_type": "code",
   "execution_count": 6,
   "metadata": {},
   "outputs": [],
   "source": [
    "def eval_model(data_loader, model, criterion, optimizer, batch_size, training=False,\n",
    "              epoch = 0, total_loss_over_epochs=[], scores_over_epochs=[]):\n",
    "    running_loss = 0.\n",
    "    final_labels, final_preds = [], []\n",
    "    scores, losses = [], []\n",
    "    if data_loader is None:\n",
    "        return\n",
    "    \n",
    "    run_type = None\n",
    "    if training:\n",
    "        run_type = 'train'\n",
    "        model.train()\n",
    "    else:\n",
    "        run_type = 'test'\n",
    "        model.eval()\n",
    "    \n",
    "    for i, minibatch in enumerate(data_loader):\n",
    "        # extract minibatch\n",
    "        t0 = time.time()\n",
    "        idxs, v, q, a, q_len = minibatch\n",
    "        \n",
    "        # convert torch's DataLoader output to proper format.\n",
    "        # torch gives a List[Tensor_1, ... ] where tensor has been transposed. \n",
    "        # batchify transposes back.`\n",
    "        v = v.to(device)\n",
    "        q = VQADataSet.batchify_questions(q).to(device)\n",
    "        a = a.to(device)\n",
    "\n",
    "        logits = model(v, q, q_len)\n",
    "        preds = torch.argmax(logits, dim=1)\n",
    "\n",
    "#         loss = criterion(logits, a)\n",
    "        loss = F.nll_loss(logits, a)\n",
    "        running_loss += loss.item()\n",
    "        \n",
    "#         score = metrics.precision_recall_fscore_support(preds.tolist(),\n",
    "#                                                         a.tolist(),\n",
    "#                                                         average='weighted')\n",
    "        score = metrics.accuracy_score(preds.tolist(),a.tolist())\n",
    "    \n",
    "        scores.append(score)\n",
    "        losses.append(loss)\n",
    "        \n",
    "        loss_key = '{}_loss'.format(run_type)\n",
    "        total_loss_over_epochs['{}_loss'.format(run_type)].append(loss)\n",
    "        scores_over_epochs['{}_scores'.format(run_type)].append(score)\n",
    "        \n",
    "        if training and optimizer is not None:\n",
    "            optimizer.zero_grad()\n",
    "            loss.backward()\n",
    "            optimizer.step()\n",
    "   \n",
    "        final_labels += a.tolist()\n",
    "        final_preds  += preds.tolist()\n",
    "        if i%10==0:\n",
    "            score = np.mean(scores)\n",
    "            print(\"Epoch {}: {} Loss: {} Score: {} t: {}\".format(epoch, run_type,loss, score, time.time()-t0))\n",
    "#             plotting.plot_score_over_n_epochs(scores_over_epochs, score_type='precision', fig_size=(7,3))\n",
    "#             plotting.plot_loss_over_n_epochs(total_loss_over_epochs, hard_key=loss_key, fig_size=(7, 3))\n",
    "            \n",
    "    return running_loss, final_labels, final_preds"
   ]
  },
  {
   "cell_type": "code",
   "execution_count": null,
   "metadata": {},
   "outputs": [],
   "source": [
    "\n"
   ]
  },
  {
   "cell_type": "code",
   "execution_count": 7,
   "metadata": {},
   "outputs": [
    {
     "name": "stderr",
     "output_type": "stream",
     "text": [
      "\r",
      "  0%|          | 0/30 [00:00<?, ?it/s]"
     ]
    },
    {
     "name": "stdout",
     "output_type": "stream",
     "text": [
      "batch_size: 40 shuffle: True\n",
      "batch_size: 40 shuffle: False\n",
      "model built, start training.\n",
      "Epoch 0: train Loss: 6.206993103027344 Score: 0.0 t: 0.32837677001953125\n",
      "Epoch 0: train Loss: 5.847630500793457 Score: 0.14772727272727268 t: 0.3098018169403076\n",
      "Epoch 0: train Loss: 5.083428859710693 Score: 0.1642857142857143 t: 0.3006899356842041\n",
      "Epoch 0: train Loss: 4.00607967376709 Score: 0.1693548387096774 t: 0.3054647445678711\n",
      "Epoch 0: train Loss: 5.201992988586426 Score: 0.17378048780487804 t: 0.30841994285583496\n",
      "Epoch 0: test Loss: 1.6587327718734741 Score: 0.425 t: 0.28287696838378906\n"
     ]
    },
    {
     "name": "stderr",
     "output_type": "stream",
     "text": [
      "\r",
      "  3%|▎         | 1/30 [00:47<22:46, 47.12s/it]"
     ]
    },
    {
     "name": "stdout",
     "output_type": "stream",
     "text": [
      "\n",
      "#==##==##==##==##==##==##==#epoch: 0#==##==##==##==##==##==##==#\n",
      "TEST ACC: 0.29133858267716534\n",
      "#==##==##==##==##==##==##==#time: 47.11704778671265#==##==##==##==##==##==##==#\n",
      "\n",
      "Epoch 1: train Loss: 5.721721172332764 Score: 0.175 t: 0.30323314666748047\n",
      "Epoch 1: train Loss: 4.4188666343688965 Score: 0.19545454545454544 t: 0.2982058525085449\n",
      "Epoch 1: train Loss: 5.051380634307861 Score: 0.1952380952380952 t: 0.30435895919799805\n",
      "Epoch 1: train Loss: 4.466466903686523 Score: 0.18790322580645155 t: 0.3062562942504883\n",
      "Epoch 1: train Loss: 4.478691577911377 Score: 0.19329268292682927 t: 0.30958056449890137\n",
      "Epoch 1: test Loss: 1.572569727897644 Score: 0.475 t: 0.2927532196044922\n"
     ]
    },
    {
     "name": "stderr",
     "output_type": "stream",
     "text": [
      "\r",
      "  7%|▋         | 2/30 [01:32<21:46, 46.66s/it]"
     ]
    },
    {
     "name": "stdout",
     "output_type": "stream",
     "text": [
      "\n",
      "#==##==##==##==##==##==##==#epoch: 1#==##==##==##==##==##==##==#\n",
      "TEST ACC: 0.2952755905511811\n",
      "#==##==##==##==##==##==##==#time: 45.59282183647156#==##==##==##==##==##==##==#\n",
      "\n",
      "Epoch 2: train Loss: 4.080038547515869 Score: 0.175 t: 0.30736374855041504\n",
      "Epoch 2: train Loss: 4.313844680786133 Score: 0.17500000000000002 t: 0.3023109436035156\n",
      "Epoch 2: train Loss: 3.894030809402466 Score: 0.18452380952380953 t: 0.3045380115509033\n",
      "Epoch 2: train Loss: 4.096630573272705 Score: 0.18306451612903218 t: 0.31348466873168945\n",
      "Epoch 2: train Loss: 4.846668243408203 Score: 0.18109756097560978 t: 0.31609034538269043\n",
      "Epoch 2: test Loss: 0.9495627284049988 Score: 0.975 t: 0.30173206329345703\n"
     ]
    },
    {
     "name": "stderr",
     "output_type": "stream",
     "text": [
      "\r",
      " 10%|█         | 3/30 [02:18<20:50, 46.32s/it]"
     ]
    },
    {
     "name": "stdout",
     "output_type": "stream",
     "text": [
      "\n",
      "#==##==##==##==##==##==##==#epoch: 2#==##==##==##==##==##==##==#\n",
      "TEST ACC: 0.3346456692913386\n",
      "#==##==##==##==##==##==##==#time: 45.51678419113159#==##==##==##==##==##==##==#\n",
      "\n",
      "Epoch 3: train Loss: 3.8435542583465576 Score: 0.2 t: 0.31044840812683105\n",
      "Epoch 3: train Loss: 3.813192844390869 Score: 0.17045454545454544 t: 0.34620094299316406\n",
      "Epoch 3: train Loss: 4.652189254760742 Score: 0.1857142857142857 t: 0.31498265266418457\n",
      "Epoch 3: train Loss: 4.778288841247559 Score: 0.18951612903225806 t: 0.3024468421936035\n",
      "Epoch 3: train Loss: 3.776625156402588 Score: 0.19817073170731708 t: 0.3145411014556885\n",
      "Epoch 3: test Loss: 0.8485559225082397 Score: 0.925 t: 0.28474879264831543\n"
     ]
    },
    {
     "name": "stderr",
     "output_type": "stream",
     "text": [
      "\r",
      " 13%|█▎        | 4/30 [03:06<20:23, 47.05s/it]"
     ]
    },
    {
     "name": "stdout",
     "output_type": "stream",
     "text": [
      "\n",
      "#==##==##==##==##==##==##==#epoch: 3#==##==##==##==##==##==##==#\n",
      "TEST ACC: 0.33070866141732286\n",
      "#==##==##==##==##==##==##==#time: 48.76116943359375#==##==##==##==##==##==##==#\n",
      "\n",
      "Epoch 4: train Loss: 4.437737941741943 Score: 0.15 t: 0.30765438079833984\n",
      "Epoch 4: train Loss: 3.713559627532959 Score: 0.21136363636363634 t: 0.32967567443847656\n",
      "Epoch 4: train Loss: 3.9746882915496826 Score: 0.2214285714285714 t: 0.30515480041503906\n",
      "Epoch 4: train Loss: 3.5231316089630127 Score: 0.22580645161290325 t: 0.3115055561065674\n",
      "Epoch 4: train Loss: 3.2606418132781982 Score: 0.22073170731707314 t: 0.3224630355834961\n",
      "Epoch 4: test Loss: 1.7974913120269775 Score: 0.0 t: 0.28450894355773926\n"
     ]
    },
    {
     "name": "stderr",
     "output_type": "stream",
     "text": [
      "\r",
      " 17%|█▋        | 5/30 [03:52<19:22, 46.50s/it]"
     ]
    },
    {
     "name": "stdout",
     "output_type": "stream",
     "text": [
      "\n",
      "#==##==##==##==##==##==##==#epoch: 4#==##==##==##==##==##==##==#\n",
      "TEST ACC: 0.31496062992125984\n",
      "#==##==##==##==##==##==##==#time: 45.20726299285889#==##==##==##==##==##==##==#\n",
      "\n",
      "Epoch 5: train Loss: 3.5978455543518066 Score: 0.175 t: 0.3141002655029297\n",
      "Epoch 5: train Loss: 4.099198341369629 Score: 0.25 t: 0.3111240863800049\n",
      "Epoch 5: train Loss: 3.5296547412872314 Score: 0.22619047619047614 t: 0.31143999099731445\n",
      "Epoch 5: train Loss: 3.6629090309143066 Score: 0.22661290322580646 t: 0.30518245697021484\n",
      "Epoch 5: train Loss: 3.864910125732422 Score: 0.22926829268292678 t: 0.31122732162475586\n",
      "Epoch 5: test Loss: 0.8710017204284668 Score: 0.025 t: 0.2902100086212158\n"
     ]
    },
    {
     "name": "stderr",
     "output_type": "stream",
     "text": [
      "\r",
      " 20%|██        | 6/30 [04:40<18:48, 47.03s/it]"
     ]
    },
    {
     "name": "stdout",
     "output_type": "stream",
     "text": [
      "\n",
      "#==##==##==##==##==##==##==#epoch: 5#==##==##==##==##==##==##==#\n",
      "TEST ACC: 0.38188976377952755\n",
      "#==##==##==##==##==##==##==#time: 48.25788879394531#==##==##==##==##==##==##==#\n",
      "\n",
      "Epoch 6: train Loss: 3.7035269737243652 Score: 0.2 t: 0.3003573417663574\n",
      "Epoch 6: train Loss: 3.675374984741211 Score: 0.2318181818181818 t: 0.3003871440887451\n",
      "Epoch 6: train Loss: 3.02052640914917 Score: 0.2392857142857143 t: 0.2971765995025635\n",
      "Epoch 6: train Loss: 3.7358059883117676 Score: 0.24193548387096775 t: 0.29937124252319336\n",
      "Epoch 6: train Loss: 3.9678714275360107 Score: 0.22743902439024388 t: 0.300830602645874\n",
      "Epoch 6: test Loss: 0.8024271130561829 Score: 0.95 t: 0.2773020267486572\n"
     ]
    },
    {
     "name": "stderr",
     "output_type": "stream",
     "text": [
      "\r",
      " 23%|██▎       | 7/30 [05:23<17:35, 45.90s/it]"
     ]
    },
    {
     "name": "stdout",
     "output_type": "stream",
     "text": [
      "\n",
      "#==##==##==##==##==##==##==#epoch: 6#==##==##==##==##==##==##==#\n",
      "TEST ACC: 0.3661417322834646\n",
      "#==##==##==##==##==##==##==#time: 43.26406407356262#==##==##==##==##==##==##==#\n",
      "\n",
      "Epoch 7: train Loss: 3.2829785346984863 Score: 0.2 t: 0.29305076599121094\n",
      "Epoch 7: train Loss: 3.397716522216797 Score: 0.2840909090909091 t: 0.30248212814331055\n",
      "Epoch 7: train Loss: 3.5930545330047607 Score: 0.25833333333333336 t: 0.2997405529022217\n",
      "Epoch 7: train Loss: 4.3077287673950195 Score: 0.24838709677419354 t: 0.2998237609863281\n",
      "Epoch 7: train Loss: 4.270969390869141 Score: 0.2396341463414634 t: 0.3019700050354004\n",
      "Epoch 7: test Loss: 0.8133619427680969 Score: 0.15 t: 0.2814764976501465\n"
     ]
    },
    {
     "name": "stderr",
     "output_type": "stream",
     "text": [
      "\r",
      " 27%|██▋       | 8/30 [06:09<16:47, 45.78s/it]"
     ]
    },
    {
     "name": "stdout",
     "output_type": "stream",
     "text": [
      "\n",
      "#==##==##==##==##==##==##==#epoch: 7#==##==##==##==##==##==##==#\n",
      "TEST ACC: 0.3543307086614173\n",
      "#==##==##==##==##==##==##==#time: 45.493940591812134#==##==##==##==##==##==##==#\n",
      "\n",
      "Epoch 8: train Loss: 3.3568291664123535 Score: 0.3 t: 0.30082130432128906\n",
      "Epoch 8: train Loss: 3.467815399169922 Score: 0.24772727272727268 t: 0.3024275302886963\n",
      "Epoch 8: train Loss: 3.624782085418701 Score: 0.24404761904761904 t: 0.30356717109680176\n",
      "Epoch 8: train Loss: 3.6878409385681152 Score: 0.23064516129032261 t: 0.29769062995910645\n",
      "Epoch 8: train Loss: 3.012120246887207 Score: 0.2347560975609756 t: 0.2982203960418701\n",
      "Epoch 8: test Loss: 0.9540029764175415 Score: 0.025 t: 0.28004956245422363\n"
     ]
    },
    {
     "name": "stderr",
     "output_type": "stream",
     "text": [
      "\r",
      " 30%|███       | 9/30 [06:48<15:22, 43.93s/it]"
     ]
    },
    {
     "name": "stdout",
     "output_type": "stream",
     "text": [
      "\n",
      "#==##==##==##==##==##==##==#epoch: 8#==##==##==##==##==##==##==#\n",
      "TEST ACC: 0.3937007874015748\n",
      "#==##==##==##==##==##==##==#time: 39.63132095336914#==##==##==##==##==##==##==#\n",
      "\n",
      "Epoch 9: train Loss: 3.1521053314208984 Score: 0.375 t: 0.3022274971008301\n",
      "Epoch 9: train Loss: 3.228107452392578 Score: 0.2727272727272727 t: 0.3019521236419678\n",
      "Epoch 9: train Loss: 3.3191821575164795 Score: 0.26785714285714285 t: 0.34528040885925293\n",
      "Epoch 9: train Loss: 3.4137847423553467 Score: 0.264516129032258 t: 0.30037403106689453\n",
      "Epoch 9: train Loss: 3.40837025642395 Score: 0.25731707317073166 t: 0.31464314460754395\n",
      "Epoch 9: test Loss: 0.8945528864860535 Score: 0.025 t: 0.2837843894958496\n"
     ]
    },
    {
     "name": "stderr",
     "output_type": "stream",
     "text": [
      "\r",
      " 33%|███▎      | 10/30 [07:35<14:53, 44.67s/it]"
     ]
    },
    {
     "name": "stdout",
     "output_type": "stream",
     "text": [
      "\n",
      "#==##==##==##==##==##==##==#epoch: 9#==##==##==##==##==##==##==#\n",
      "TEST ACC: 0.4015748031496063\n",
      "#==##==##==##==##==##==##==#time: 46.385974645614624#==##==##==##==##==##==##==#\n",
      "\n",
      "Epoch 10: train Loss: 3.265570878982544 Score: 0.225 t: 0.3110506534576416\n",
      "Epoch 10: train Loss: 2.907893657684326 Score: 0.27954545454545454 t: 0.29921460151672363\n",
      "Epoch 10: train Loss: 3.6761398315429688 Score: 0.25833333333333336 t: 0.3086867332458496\n",
      "Epoch 10: train Loss: 2.9927358627319336 Score: 0.2588709677419355 t: 0.30669498443603516\n",
      "Epoch 10: train Loss: 2.694204807281494 Score: 0.2597560975609756 t: 0.3154730796813965\n",
      "Epoch 10: test Loss: 0.8687877655029297 Score: 0.125 t: 0.2854158878326416\n"
     ]
    },
    {
     "name": "stderr",
     "output_type": "stream",
     "text": [
      "\r",
      " 37%|███▋      | 11/30 [08:20<14:11, 44.79s/it]"
     ]
    },
    {
     "name": "stdout",
     "output_type": "stream",
     "text": [
      "\n",
      "#==##==##==##==##==##==##==#epoch: 10#==##==##==##==##==##==##==#\n",
      "TEST ACC: 0.3543307086614173\n",
      "#==##==##==##==##==##==##==#time: 45.07113242149353#==##==##==##==##==##==##==#\n",
      "\n",
      "Epoch 11: train Loss: 3.3566958904266357 Score: 0.2 t: 0.3067154884338379\n",
      "Epoch 11: train Loss: 3.5306460857391357 Score: 0.25227272727272726 t: 0.31761956214904785\n",
      "Epoch 11: train Loss: 3.3273658752441406 Score: 0.255952380952381 t: 0.3175697326660156\n",
      "Epoch 11: train Loss: 2.874429702758789 Score: 0.2620967741935484 t: 0.3067586421966553\n",
      "Epoch 11: train Loss: 2.8907225131988525 Score: 0.26646341463414636 t: 0.3030405044555664\n",
      "Epoch 11: test Loss: 0.6308332681655884 Score: 0.875 t: 0.27179861068725586\n"
     ]
    },
    {
     "name": "stderr",
     "output_type": "stream",
     "text": [
      "\r",
      " 40%|████      | 12/30 [09:03<13:18, 44.35s/it]"
     ]
    },
    {
     "name": "stdout",
     "output_type": "stream",
     "text": [
      "\n",
      "#==##==##==##==##==##==##==#epoch: 11#==##==##==##==##==##==##==#\n",
      "TEST ACC: 0.38976377952755903\n",
      "#==##==##==##==##==##==##==#time: 43.306965827941895#==##==##==##==##==##==##==#\n",
      "\n",
      "Epoch 12: train Loss: 3.8429598808288574 Score: 0.2 t: 0.3006610870361328\n",
      "Epoch 12: train Loss: 3.685702085494995 Score: 0.29318181818181815 t: 0.30709266662597656\n",
      "Epoch 12: train Loss: 2.9532179832458496 Score: 0.28690476190476194 t: 0.30483412742614746\n",
      "Epoch 12: train Loss: 2.886003017425537 Score: 0.2830645161290323 t: 0.3032987117767334\n",
      "Epoch 12: train Loss: 3.3822569847106934 Score: 0.276219512195122 t: 0.30278515815734863\n",
      "Epoch 12: test Loss: 0.8824065923690796 Score: 0.15 t: 0.2829289436340332\n"
     ]
    },
    {
     "name": "stderr",
     "output_type": "stream",
     "text": [
      "\r",
      " 43%|████▎     | 13/30 [09:39<11:49, 41.73s/it]"
     ]
    },
    {
     "name": "stdout",
     "output_type": "stream",
     "text": [
      "\n",
      "#==##==##==##==##==##==##==#epoch: 12#==##==##==##==##==##==##==#\n",
      "TEST ACC: 0.4094488188976378\n",
      "#==##==##==##==##==##==##==#time: 35.623446464538574#==##==##==##==##==##==##==#\n",
      "\n",
      "Epoch 13: train Loss: 3.4579710960388184 Score: 0.225 t: 0.29434871673583984\n",
      "Epoch 13: train Loss: 2.86161732673645 Score: 0.32045454545454544 t: 0.2996675968170166\n",
      "Epoch 13: train Loss: 3.5567455291748047 Score: 0.30357142857142855 t: 0.29842162132263184\n",
      "Epoch 13: train Loss: 2.424190044403076 Score: 0.30806451612903224 t: 0.2957010269165039\n",
      "Epoch 13: train Loss: 3.088688373565674 Score: 0.2987804878048781 t: 0.29641222953796387\n",
      "Epoch 13: test Loss: 0.7258808016777039 Score: 0.625 t: 0.27648258209228516\n"
     ]
    },
    {
     "name": "stderr",
     "output_type": "stream",
     "text": [
      "\r",
      " 47%|████▋     | 14/30 [10:17<10:50, 40.63s/it]"
     ]
    },
    {
     "name": "stdout",
     "output_type": "stream",
     "text": [
      "\n",
      "#==##==##==##==##==##==##==#epoch: 13#==##==##==##==##==##==##==#\n",
      "TEST ACC: 0.4015748031496063\n",
      "#==##==##==##==##==##==##==#time: 38.078988790512085#==##==##==##==##==##==##==#\n",
      "\n",
      "Epoch 14: train Loss: 2.5087392330169678 Score: 0.35 t: 0.3170809745788574\n",
      "Epoch 14: train Loss: 3.1409668922424316 Score: 0.3045454545454545 t: 0.3004622459411621\n",
      "Epoch 14: train Loss: 2.844306468963623 Score: 0.3309523809523809 t: 0.30172133445739746\n",
      "Epoch 14: train Loss: 2.353086471557617 Score: 0.3266129032258064 t: 0.3007822036743164\n",
      "Epoch 14: train Loss: 3.3749747276306152 Score: 0.32195121951219513 t: 0.29722166061401367\n",
      "Epoch 14: test Loss: 0.8864759206771851 Score: 0.375 t: 0.286470890045166\n"
     ]
    },
    {
     "name": "stderr",
     "output_type": "stream",
     "text": [
      "\r",
      " 50%|█████     | 15/30 [10:53<09:47, 39.16s/it]"
     ]
    },
    {
     "name": "stdout",
     "output_type": "stream",
     "text": [
      "\n",
      "#==##==##==##==##==##==##==#epoch: 14#==##==##==##==##==##==##==#\n",
      "TEST ACC: 0.421259842519685\n",
      "#==##==##==##==##==##==##==#time: 35.71300148963928#==##==##==##==##==##==##==#\n",
      "\n",
      "Epoch 15: train Loss: 2.7149291038513184 Score: 0.425 t: 0.2976822853088379\n",
      "Epoch 15: train Loss: 2.993520498275757 Score: 0.38181818181818183 t: 0.3043537139892578\n",
      "Epoch 15: train Loss: 2.679884910583496 Score: 0.36904761904761907 t: 0.300811767578125\n",
      "Epoch 15: train Loss: 2.867611885070801 Score: 0.36370967741935484 t: 0.30932068824768066\n",
      "Epoch 15: train Loss: 3.0906224250793457 Score: 0.35060975609756095 t: 0.3026561737060547\n",
      "Epoch 15: test Loss: 0.7689604759216309 Score: 0.525 t: 0.2843053340911865\n"
     ]
    },
    {
     "name": "stderr",
     "output_type": "stream",
     "text": [
      "\r",
      " 53%|█████▎    | 16/30 [11:49<10:18, 44.21s/it]"
     ]
    },
    {
     "name": "stdout",
     "output_type": "stream",
     "text": [
      "\n",
      "#==##==##==##==##==##==##==#epoch: 15#==##==##==##==##==##==##==#\n",
      "TEST ACC: 0.4094488188976378\n",
      "#==##==##==##==##==##==##==#time: 55.99436688423157#==##==##==##==##==##==##==#\n",
      "\n",
      "Epoch 16: train Loss: 2.1976571083068848 Score: 0.5 t: 0.3109266757965088\n",
      "Epoch 16: train Loss: 3.0847012996673584 Score: 0.38636363636363635 t: 0.31325626373291016\n",
      "Epoch 16: train Loss: 2.9679434299468994 Score: 0.38333333333333336 t: 0.30408430099487305\n",
      "Epoch 16: train Loss: 3.4088993072509766 Score: 0.3717741935483871 t: 0.30910825729370117\n",
      "Epoch 16: train Loss: 2.6287379264831543 Score: 0.3756097560975609 t: 0.3056910037994385\n",
      "Epoch 16: test Loss: 1.030041217803955 Score: 0.325 t: 0.2837848663330078\n"
     ]
    },
    {
     "name": "stderr",
     "output_type": "stream",
     "text": [
      "\r",
      " 57%|█████▋    | 17/30 [12:32<09:33, 44.12s/it]"
     ]
    },
    {
     "name": "stdout",
     "output_type": "stream",
     "text": [
      "\n",
      "#==##==##==##==##==##==##==#epoch: 16#==##==##==##==##==##==##==#\n",
      "TEST ACC: 0.44881889763779526\n",
      "#==##==##==##==##==##==##==#time: 43.92645263671875#==##==##==##==##==##==##==#\n",
      "\n",
      "Epoch 17: train Loss: 2.5220255851745605 Score: 0.425 t: 0.30886006355285645\n",
      "Epoch 17: train Loss: 2.0660624504089355 Score: 0.4295454545454546 t: 0.3067615032196045\n",
      "Epoch 17: train Loss: 2.6280620098114014 Score: 0.4154761904761904 t: 0.30651044845581055\n",
      "Epoch 17: train Loss: 2.1299264430999756 Score: 0.41693548387096774 t: 0.3099496364593506\n",
      "Epoch 17: train Loss: 3.2493338584899902 Score: 0.4048780487804878 t: 0.31305408477783203\n",
      "Epoch 17: test Loss: 0.7370744943618774 Score: 0.6 t: 0.28377771377563477\n"
     ]
    },
    {
     "name": "stderr",
     "output_type": "stream",
     "text": [
      "\r",
      " 60%|██████    | 18/30 [13:19<08:59, 44.99s/it]"
     ]
    },
    {
     "name": "stdout",
     "output_type": "stream",
     "text": [
      "\n",
      "#==##==##==##==##==##==##==#epoch: 17#==##==##==##==##==##==##==#\n",
      "TEST ACC: 0.4448818897637795\n",
      "#==##==##==##==##==##==##==#time: 47.008567094802856#==##==##==##==##==##==##==#\n",
      "\n",
      "Epoch 18: train Loss: 2.4874675273895264 Score: 0.475 t: 0.31470203399658203\n",
      "Epoch 18: train Loss: 2.2235705852508545 Score: 0.484090909090909 t: 0.3183481693267822\n",
      "Epoch 18: train Loss: 2.1106767654418945 Score: 0.46309523809523817 t: 0.30751466751098633\n",
      "Epoch 18: train Loss: 2.455777406692505 Score: 0.46370967741935487 t: 0.3139688968658447\n",
      "Epoch 18: train Loss: 2.7014594078063965 Score: 0.45060975609756093 t: 0.3357973098754883\n",
      "Epoch 18: test Loss: 0.8010202646255493 Score: 0.625 t: 0.28920435905456543\n"
     ]
    },
    {
     "name": "stderr",
     "output_type": "stream",
     "text": [
      "\r",
      " 63%|██████▎   | 19/30 [14:09<08:29, 46.30s/it]"
     ]
    },
    {
     "name": "stdout",
     "output_type": "stream",
     "text": [
      "\n",
      "#==##==##==##==##==##==##==#epoch: 18#==##==##==##==##==##==##==#\n",
      "TEST ACC: 0.43700787401574803\n",
      "#==##==##==##==##==##==##==#time: 49.35208773612976#==##==##==##==##==##==##==#\n",
      "\n",
      "Epoch 19: train Loss: 2.5645127296447754 Score: 0.5 t: 0.3103353977203369\n",
      "Epoch 19: train Loss: 1.9728425741195679 Score: 0.47500000000000003 t: 0.3029770851135254\n",
      "Epoch 19: train Loss: 2.5325725078582764 Score: 0.4690476190476191 t: 0.29172277450561523\n",
      "Epoch 19: train Loss: 2.256727695465088 Score: 0.45645161290322583 t: 0.2881488800048828\n",
      "Epoch 19: train Loss: 1.9354301691055298 Score: 0.45853658536585357 t: 0.28978776931762695\n",
      "Epoch 19: test Loss: 1.175491213798523 Score: 0.475 t: 0.26845598220825195\n"
     ]
    },
    {
     "name": "stderr",
     "output_type": "stream",
     "text": [
      "\r",
      " 67%|██████▋   | 20/30 [14:44<07:08, 42.87s/it]"
     ]
    },
    {
     "name": "stdout",
     "output_type": "stream",
     "text": [
      "\n",
      "#==##==##==##==##==##==##==#epoch: 19#==##==##==##==##==##==##==#\n",
      "TEST ACC: 0.44881889763779526\n",
      "#==##==##==##==##==##==##==#time: 34.86396789550781#==##==##==##==##==##==##==#\n",
      "\n",
      "Epoch 20: train Loss: 2.223959445953369 Score: 0.5 t: 0.28772854804992676\n",
      "Epoch 20: train Loss: 2.352978229522705 Score: 0.5204545454545455 t: 0.2926597595214844\n",
      "Epoch 20: train Loss: 2.4744725227355957 Score: 0.5202380952380954 t: 0.2903313636779785\n",
      "Epoch 20: train Loss: 2.4218831062316895 Score: 0.514516129032258 t: 0.2958376407623291\n",
      "Epoch 20: train Loss: 2.327594757080078 Score: 0.501219512195122 t: 0.29570603370666504\n",
      "Epoch 20: test Loss: 0.6080906987190247 Score: 0.7 t: 0.2708706855773926\n"
     ]
    },
    {
     "name": "stderr",
     "output_type": "stream",
     "text": [
      "\r",
      " 70%|███████   | 21/30 [15:27<06:25, 42.86s/it]"
     ]
    },
    {
     "name": "stdout",
     "output_type": "stream",
     "text": [
      "\n",
      "#==##==##==##==##==##==##==#epoch: 20#==##==##==##==##==##==##==#\n",
      "TEST ACC: 0.40551181102362205\n",
      "#==##==##==##==##==##==##==#time: 42.833451986312866#==##==##==##==##==##==##==#\n",
      "\n",
      "Epoch 21: train Loss: 2.1618854999542236 Score: 0.475 t: 0.3028438091278076\n",
      "Epoch 21: train Loss: 2.1615214347839355 Score: 0.5318181818181817 t: 0.30746936798095703\n",
      "Epoch 21: train Loss: 1.8769099712371826 Score: 0.5333333333333333 t: 0.31319141387939453\n",
      "Epoch 21: train Loss: 2.0582234859466553 Score: 0.5362903225806451 t: 0.32909369468688965\n",
      "Epoch 21: train Loss: 2.2700135707855225 Score: 0.5231707317073171 t: 0.32031726837158203\n",
      "Epoch 21: test Loss: 1.070317029953003 Score: 0.575 t: 0.28302621841430664\n"
     ]
    },
    {
     "name": "stderr",
     "output_type": "stream",
     "text": [
      "\r",
      " 73%|███████▎  | 22/30 [16:18<06:02, 45.32s/it]"
     ]
    },
    {
     "name": "stdout",
     "output_type": "stream",
     "text": [
      "\n",
      "#==##==##==##==##==##==##==#epoch: 21#==##==##==##==##==##==##==#\n",
      "TEST ACC: 0.43700787401574803\n",
      "#==##==##==##==##==##==##==#time: 51.07240033149719#==##==##==##==##==##==##==#\n",
      "\n",
      "Epoch 22: train Loss: 1.5283282995224 Score: 0.7 t: 0.3247833251953125\n",
      "Epoch 22: train Loss: 1.9365428686141968 Score: 0.5863636363636364 t: 0.32193613052368164\n",
      "Epoch 22: train Loss: 1.5971102714538574 Score: 0.5630952380952381 t: 0.304868221282959\n",
      "Epoch 22: train Loss: 1.9060356616973877 Score: 0.5524193548387097 t: 0.3139028549194336\n",
      "Epoch 22: train Loss: 2.2542507648468018 Score: 0.5530487804878049 t: 0.30141568183898926\n",
      "Epoch 22: test Loss: 0.8329987525939941 Score: 0.7 t: 0.2835679054260254\n"
     ]
    },
    {
     "name": "stderr",
     "output_type": "stream",
     "text": [
      "\r",
      " 77%|███████▋  | 23/30 [17:06<05:22, 46.12s/it]"
     ]
    },
    {
     "name": "stdout",
     "output_type": "stream",
     "text": [
      "\n",
      "#==##==##==##==##==##==##==#epoch: 22#==##==##==##==##==##==##==#\n",
      "TEST ACC: 0.43700787401574803\n",
      "#==##==##==##==##==##==##==#time: 47.98070693016052#==##==##==##==##==##==##==#\n",
      "\n",
      "Epoch 23: train Loss: 2.262814521789551 Score: 0.6 t: 0.305586576461792\n",
      "Epoch 23: train Loss: 2.0907223224639893 Score: 0.6045454545454546 t: 0.306959867477417\n",
      "Epoch 23: train Loss: 2.189786672592163 Score: 0.5988095238095238 t: 0.3023505210876465\n",
      "Epoch 23: train Loss: 1.689117193222046 Score: 0.5927419354838711 t: 0.30971527099609375\n",
      "Epoch 23: train Loss: 1.981448769569397 Score: 0.5878048780487806 t: 0.313917875289917\n",
      "Epoch 23: test Loss: 0.8858711123466492 Score: 0.6 t: 0.29142093658447266\n"
     ]
    },
    {
     "name": "stderr",
     "output_type": "stream",
     "text": [
      "\r",
      " 80%|████████  | 24/30 [18:00<04:50, 48.48s/it]"
     ]
    },
    {
     "name": "stdout",
     "output_type": "stream",
     "text": [
      "\n",
      "#==##==##==##==##==##==##==#epoch: 23#==##==##==##==##==##==##==#\n",
      "TEST ACC: 0.44881889763779526\n",
      "#==##==##==##==##==##==##==#time: 53.96802830696106#==##==##==##==##==##==##==#\n",
      "\n",
      "Epoch 24: train Loss: 1.4969377517700195 Score: 0.75 t: 0.305828332901001\n",
      "Epoch 24: train Loss: 1.5703352689743042 Score: 0.640909090909091 t: 0.3106532096862793\n",
      "Epoch 24: train Loss: 1.8352457284927368 Score: 0.6261904761904761 t: 0.3131251335144043\n",
      "Epoch 24: train Loss: 2.067091464996338 Score: 0.6258064516129033 t: 0.30502939224243164\n",
      "Epoch 24: train Loss: 1.6429640054702759 Score: 0.6195121951219513 t: 0.3176579475402832\n",
      "Epoch 24: test Loss: 1.0036991834640503 Score: 0.6 t: 0.33660054206848145\n"
     ]
    },
    {
     "name": "stderr",
     "output_type": "stream",
     "text": [
      "\r",
      " 83%|████████▎ | 25/30 [18:53<04:09, 49.83s/it]"
     ]
    },
    {
     "name": "stdout",
     "output_type": "stream",
     "text": [
      "\n",
      "#==##==##==##==##==##==##==#epoch: 24#==##==##==##==##==##==##==#\n",
      "TEST ACC: 0.4409448818897638\n",
      "#==##==##==##==##==##==##==#time: 52.98643946647644#==##==##==##==##==##==##==#\n",
      "\n",
      "Epoch 25: train Loss: 1.4144253730773926 Score: 0.675 t: 0.3094191551208496\n",
      "Epoch 25: train Loss: 1.9681625366210938 Score: 0.6545454545454545 t: 0.3146474361419678\n",
      "Epoch 25: train Loss: 1.45235276222229 Score: 0.6666666666666667 t: 0.31654834747314453\n",
      "Epoch 25: train Loss: 1.853144884109497 Score: 0.6669354838709678 t: 0.32090115547180176\n",
      "Epoch 25: train Loss: 1.7111480236053467 Score: 0.6524390243902439 t: 0.3171811103820801\n",
      "Epoch 25: test Loss: 0.7263514399528503 Score: 0.775 t: 0.28791332244873047\n"
     ]
    },
    {
     "name": "stderr",
     "output_type": "stream",
     "text": [
      "\r",
      " 87%|████████▋ | 26/30 [19:40<03:16, 49.12s/it]"
     ]
    },
    {
     "name": "stdout",
     "output_type": "stream",
     "text": [
      "\n",
      "#==##==##==##==##==##==##==#epoch: 25#==##==##==##==##==##==##==#\n",
      "TEST ACC: 0.4251968503937008\n",
      "#==##==##==##==##==##==##==#time: 47.45579695701599#==##==##==##==##==##==##==#\n",
      "\n",
      "Epoch 26: train Loss: 1.4062063694000244 Score: 0.75 t: 0.31911253929138184\n",
      "Epoch 26: train Loss: 1.2881097793579102 Score: 0.6886363636363636 t: 0.31160449981689453\n",
      "Epoch 26: train Loss: 1.5202277898788452 Score: 0.6880952380952381 t: 0.31458520889282227\n",
      "Epoch 26: train Loss: 1.7960981130599976 Score: 0.6903225806451614 t: 0.304912805557251\n",
      "Epoch 26: train Loss: 1.6564518213272095 Score: 0.6817073170731708 t: 0.30181050300598145\n",
      "Epoch 26: test Loss: 1.3836485147476196 Score: 0.55 t: 0.28729724884033203\n"
     ]
    },
    {
     "name": "stderr",
     "output_type": "stream",
     "text": [
      "\r",
      " 90%|█████████ | 27/30 [20:25<02:23, 47.91s/it]"
     ]
    },
    {
     "name": "stdout",
     "output_type": "stream",
     "text": [
      "\n",
      "#==##==##==##==##==##==##==#epoch: 26#==##==##==##==##==##==##==#\n",
      "TEST ACC: 0.4330708661417323\n",
      "#==##==##==##==##==##==##==#time: 45.100019454956055#==##==##==##==##==##==##==#\n",
      "\n",
      "Epoch 27: train Loss: 1.2506189346313477 Score: 0.75 t: 0.2945384979248047\n",
      "Epoch 27: train Loss: 1.238889455795288 Score: 0.7636363636363637 t: 0.30042409896850586\n",
      "Epoch 27: train Loss: 1.4730310440063477 Score: 0.7380952380952381 t: 0.29978013038635254\n",
      "Epoch 27: train Loss: 1.361440896987915 Score: 0.7379032258064516 t: 0.3145155906677246\n",
      "Epoch 27: train Loss: 1.6723991632461548 Score: 0.7201219512195122 t: 0.3148529529571533\n",
      "Epoch 27: test Loss: 1.1753002405166626 Score: 0.675 t: 0.2851595878601074\n"
     ]
    },
    {
     "name": "stderr",
     "output_type": "stream",
     "text": [
      "\r",
      " 93%|█████████▎| 28/30 [21:08<01:32, 46.30s/it]"
     ]
    },
    {
     "name": "stdout",
     "output_type": "stream",
     "text": [
      "\n",
      "#==##==##==##==##==##==##==#epoch: 27#==##==##==##==##==##==##==#\n",
      "TEST ACC: 0.4251968503937008\n",
      "#==##==##==##==##==##==##==#time: 42.52508854866028#==##==##==##==##==##==##==#\n",
      "\n",
      "Epoch 28: train Loss: 1.6109806299209595 Score: 0.65 t: 0.30482029914855957\n",
      "Epoch 28: train Loss: 1.5844597816467285 Score: 0.7454545454545456 t: 0.3199646472930908\n",
      "Epoch 28: train Loss: 1.436797022819519 Score: 0.7297619047619047 t: 0.30010342597961426\n",
      "Epoch 28: train Loss: 1.8538010120391846 Score: 0.7241935483870967 t: 0.3082096576690674\n",
      "Epoch 28: train Loss: 1.0410888195037842 Score: 0.7323170731707317 t: 0.3179192543029785\n",
      "Epoch 28: test Loss: 1.4596585035324097 Score: 0.55 t: 0.2857050895690918\n"
     ]
    },
    {
     "name": "stderr",
     "output_type": "stream",
     "text": [
      "\r",
      " 97%|█████████▋| 29/30 [21:56<00:46, 46.83s/it]"
     ]
    },
    {
     "name": "stdout",
     "output_type": "stream",
     "text": [
      "\n",
      "#==##==##==##==##==##==##==#epoch: 28#==##==##==##==##==##==##==#\n",
      "TEST ACC: 0.42913385826771655\n",
      "#==##==##==##==##==##==##==#time: 48.08460855484009#==##==##==##==##==##==##==#\n",
      "\n",
      "Epoch 29: train Loss: 1.0522981882095337 Score: 0.775 t: 0.31890010833740234\n",
      "Epoch 29: train Loss: 1.329848051071167 Score: 0.7590909090909093 t: 0.3062753677368164\n",
      "Epoch 29: train Loss: 0.8107045888900757 Score: 0.7761904761904762 t: 0.334261417388916\n",
      "Epoch 29: train Loss: 1.2955089807510376 Score: 0.7637096774193549 t: 0.3094182014465332\n",
      "Epoch 29: train Loss: 1.155544638633728 Score: 0.7615853658536584 t: 0.3137216567993164\n",
      "Epoch 29: test Loss: 1.233087182044983 Score: 0.6 t: 0.28357481956481934\n"
     ]
    },
    {
     "name": "stderr",
     "output_type": "stream",
     "text": [
      "\r",
      "100%|██████████| 30/30 [22:41<00:00, 46.38s/it]"
     ]
    },
    {
     "name": "stdout",
     "output_type": "stream",
     "text": [
      "\n",
      "#==##==##==##==##==##==##==#epoch: 29#==##==##==##==##==##==##==#\n",
      "TEST ACC: 0.4409448818897638\n",
      "#==##==##==##==##==##==##==#time: 45.33402466773987#==##==##==##==##==##==##==#\n",
      "\n"
     ]
    },
    {
     "name": "stderr",
     "output_type": "stream",
     "text": [
      "\n"
     ]
    }
   ],
   "source": [
    "device = torch.device(\"cuda:0\" if torch.cuda.is_available() else \"cpu\")\n",
    "model = EncDec(embed_size, hidden_size, ques_vocab_size, ans_vocab_size, rnn_layers).to(device)\n",
    "\n",
    "criterion = nn.CrossEntropyLoss()\n",
    "# optimizer = torch.optim.SGD(model.get_parameters(), lr=learning_rate, momentum=momentum)\n",
    "optimizer = torch.optim.Adam(model.get_parameters(), lr=learning_rate)\n",
    "\n",
    "train_loader = dataset.build_data_loader(train=True, args={'batch_size': batch_size})\n",
    "test_loader  = dataset.build_data_loader(test=True, args={'batch_size': batch_size})\n",
    "\n",
    "best_score = 0\n",
    "\n",
    "train_all_loss, train_all_labels, train_all_preds = [], [], []\n",
    "print(\"model built, start training.\")\n",
    "total_loss_over_epochs, scores_over_epochs = plotting.get_empty_stat_over_n_epoch_dictionaries()\n",
    "total_loss_over_epochs2, scores_over_epochs2 = plotting.get_empty_stat_over_n_epoch_dictionaries()\n",
    "for epoch in tqdm(range(n_epochs)):\n",
    "    t0= time.time()\n",
    "    tr_loss, tr_labels, tr_preds = eval_model(data_loader = train_loader,\n",
    "                                     model       = model,\n",
    "                                     criterion   = criterion,\n",
    "                                     optimizer   = optimizer,\n",
    "                                     batch_size  = batch_size,\n",
    "                                     training    = True,\n",
    "                                     epoch       = epoch,\n",
    "                                     total_loss_over_epochs = total_loss_over_epochs,\n",
    "                                     scores_over_epochs     = scores_over_epochs)\n",
    "    \n",
    "    tr_loss, ts_labels, ts_preds = eval_model(data_loader = test_loader,\n",
    "                                     model       = model,\n",
    "                                     criterion   = criterion,\n",
    "                                     optimizer   = None,\n",
    "                                     batch_size  = batch_size,\n",
    "                                     training    = False,\n",
    "                                     epoch       = epoch,\n",
    "                                     total_loss_over_epochs = total_loss_over_epochs2,\n",
    "                                     scores_over_epochs     = scores_over_epochs2)\n",
    "    \n",
    "    \n",
    "    score = metrics.accuracy_score(ts_preds,ts_labels)\n",
    "#     total_loss_over_epochs['train_loss'].append(tr_loss)\n",
    "#     scores_over_epochs['train_scores'].append(train_scores)\n",
    "    \n",
    "#     if True:# or epoch%1 == 0:\n",
    "    print(\"\\n\"+\"#==#\"*7 + \"epoch: {}\".format(epoch) + \"#==#\"*7)\n",
    "    print('TEST ACC: {}'.format(score))\n",
    "    print(\"#==#\"*7 + \"time: {}\".format(time.time()-t0) + \"#==#\"*7 + \"\\n\")\n",
    "#         print(train_scores)\n",
    "#     plotting.plot_score_over_n_epochs(scores_over_epochs, score_type='precision', fig_size=(8,5))\n",
    "#     plotting.plot_loss_over_n_epochs(total_loss_over_epochs, fig_size=(8, 5), title=\"Loss\")\n",
    "    \n",
    "    \n",
    "    \n",
    "    "
   ]
  },
  {
   "cell_type": "code",
   "execution_count": null,
   "metadata": {},
   "outputs": [],
   "source": [
    "for epoch in range(1):\n",
    "    ts_loss, ts_labels, ts_preds = eval_model(data_loader = test_loader,\n",
    "                                     model       = model,\n",
    "                                     criterion   = criterion,\n",
    "                                     optimizer   = None,\n",
    "                                     batch_size  = batch_size,\n",
    "                                     training    = False,\n",
    "                                     epoch       = epoch,\n",
    "                                     total_loss_over_epochs = total_loss_over_epochs2,\n",
    "                                     scores_over_epochs     = scores_over_epochs2)\n",
    "    score = metrics.accuracy_score(ts_preds,ts_labels)\n",
    "    print(\"ACC: \" + str(score))"
   ]
  },
  {
   "cell_type": "code",
   "execution_count": null,
   "metadata": {},
   "outputs": [],
   "source": [
    "print(tr_labels[0])\n",
    "print(tr_preds[0])"
   ]
  },
  {
   "cell_type": "code",
   "execution_count": null,
   "metadata": {},
   "outputs": [],
   "source": []
  }
 ],
 "metadata": {
  "kernelspec": {
   "display_name": "Python 3",
   "language": "python",
   "name": "python3"
  },
  "language_info": {
   "codemirror_mode": {
    "name": "ipython",
    "version": 3
   },
   "file_extension": ".py",
   "mimetype": "text/x-python",
   "name": "python",
   "nbconvert_exporter": "python",
   "pygments_lexer": "ipython3",
   "version": "3.6.8"
  }
 },
 "nbformat": 4,
 "nbformat_minor": 2
}
